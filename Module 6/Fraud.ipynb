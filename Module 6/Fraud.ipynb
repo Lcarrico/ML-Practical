{
 "cells": [
  {
   "cell_type": "markdown",
   "id": "6bb7b128-6ff1-49a3-a7eb-f058b3d2f963",
   "metadata": {},
   "source": [
    "# Credit Card Fraud\n",
    "### Written By Leo Carrico\n",
    "For this project, we will be doing the typical fraud detection to prevent money loss from fraud credit card usage. We will be trying to predict whether the credit card used is a fake based on the current and prevent statistics from users. In our case here, due to the volume of transactions vs actual fraud amount our accuracy for this project much be high in order for this to be applicable."
   ]
  },
  {
   "cell_type": "markdown",
   "id": "f22c2f5e-d943-4f26-9e9f-3fb0f4575e59",
   "metadata": {},
   "source": [
    "## Importing the data"
   ]
  },
  {
   "cell_type": "code",
   "execution_count": 100,
   "id": "3641be52-e329-40ab-8ac0-86178340697a",
   "metadata": {},
   "outputs": [],
   "source": [
    "import pandas as pd\n",
    "import numpy as np\n",
    "import matplotlib.pyplot as plt\n",
    "import seaborn as sns"
   ]
  },
  {
   "cell_type": "code",
   "execution_count": 101,
   "id": "03e5b5c6-3d31-4e09-abb1-635970e3a198",
   "metadata": {},
   "outputs": [],
   "source": [
    "data = pd.read_csv(\"dataset/creditcard.csv\")"
   ]
  },
  {
   "cell_type": "code",
   "execution_count": 102,
   "id": "461cd354-1f9d-4cba-b275-92b97ed88950",
   "metadata": {},
   "outputs": [
    {
     "data": {
      "text/html": [
       "<div>\n",
       "<style scoped>\n",
       "    .dataframe tbody tr th:only-of-type {\n",
       "        vertical-align: middle;\n",
       "    }\n",
       "\n",
       "    .dataframe tbody tr th {\n",
       "        vertical-align: top;\n",
       "    }\n",
       "\n",
       "    .dataframe thead th {\n",
       "        text-align: right;\n",
       "    }\n",
       "</style>\n",
       "<table border=\"1\" class=\"dataframe\">\n",
       "  <thead>\n",
       "    <tr style=\"text-align: right;\">\n",
       "      <th></th>\n",
       "      <th>Time</th>\n",
       "      <th>V1</th>\n",
       "      <th>V2</th>\n",
       "      <th>V3</th>\n",
       "      <th>V4</th>\n",
       "      <th>V5</th>\n",
       "      <th>V6</th>\n",
       "      <th>V7</th>\n",
       "      <th>V8</th>\n",
       "      <th>V9</th>\n",
       "      <th>...</th>\n",
       "      <th>V21</th>\n",
       "      <th>V22</th>\n",
       "      <th>V23</th>\n",
       "      <th>V24</th>\n",
       "      <th>V25</th>\n",
       "      <th>V26</th>\n",
       "      <th>V27</th>\n",
       "      <th>V28</th>\n",
       "      <th>Amount</th>\n",
       "      <th>Class</th>\n",
       "    </tr>\n",
       "  </thead>\n",
       "  <tbody>\n",
       "    <tr>\n",
       "      <th>0</th>\n",
       "      <td>0.0</td>\n",
       "      <td>-1.359807</td>\n",
       "      <td>-0.072781</td>\n",
       "      <td>2.536347</td>\n",
       "      <td>1.378155</td>\n",
       "      <td>-0.338321</td>\n",
       "      <td>0.462388</td>\n",
       "      <td>0.239599</td>\n",
       "      <td>0.098698</td>\n",
       "      <td>0.363787</td>\n",
       "      <td>...</td>\n",
       "      <td>-0.018307</td>\n",
       "      <td>0.277838</td>\n",
       "      <td>-0.110474</td>\n",
       "      <td>0.066928</td>\n",
       "      <td>0.128539</td>\n",
       "      <td>-0.189115</td>\n",
       "      <td>0.133558</td>\n",
       "      <td>-0.021053</td>\n",
       "      <td>149.62</td>\n",
       "      <td>0</td>\n",
       "    </tr>\n",
       "    <tr>\n",
       "      <th>1</th>\n",
       "      <td>0.0</td>\n",
       "      <td>1.191857</td>\n",
       "      <td>0.266151</td>\n",
       "      <td>0.166480</td>\n",
       "      <td>0.448154</td>\n",
       "      <td>0.060018</td>\n",
       "      <td>-0.082361</td>\n",
       "      <td>-0.078803</td>\n",
       "      <td>0.085102</td>\n",
       "      <td>-0.255425</td>\n",
       "      <td>...</td>\n",
       "      <td>-0.225775</td>\n",
       "      <td>-0.638672</td>\n",
       "      <td>0.101288</td>\n",
       "      <td>-0.339846</td>\n",
       "      <td>0.167170</td>\n",
       "      <td>0.125895</td>\n",
       "      <td>-0.008983</td>\n",
       "      <td>0.014724</td>\n",
       "      <td>2.69</td>\n",
       "      <td>0</td>\n",
       "    </tr>\n",
       "    <tr>\n",
       "      <th>2</th>\n",
       "      <td>1.0</td>\n",
       "      <td>-1.358354</td>\n",
       "      <td>-1.340163</td>\n",
       "      <td>1.773209</td>\n",
       "      <td>0.379780</td>\n",
       "      <td>-0.503198</td>\n",
       "      <td>1.800499</td>\n",
       "      <td>0.791461</td>\n",
       "      <td>0.247676</td>\n",
       "      <td>-1.514654</td>\n",
       "      <td>...</td>\n",
       "      <td>0.247998</td>\n",
       "      <td>0.771679</td>\n",
       "      <td>0.909412</td>\n",
       "      <td>-0.689281</td>\n",
       "      <td>-0.327642</td>\n",
       "      <td>-0.139097</td>\n",
       "      <td>-0.055353</td>\n",
       "      <td>-0.059752</td>\n",
       "      <td>378.66</td>\n",
       "      <td>0</td>\n",
       "    </tr>\n",
       "    <tr>\n",
       "      <th>3</th>\n",
       "      <td>1.0</td>\n",
       "      <td>-0.966272</td>\n",
       "      <td>-0.185226</td>\n",
       "      <td>1.792993</td>\n",
       "      <td>-0.863291</td>\n",
       "      <td>-0.010309</td>\n",
       "      <td>1.247203</td>\n",
       "      <td>0.237609</td>\n",
       "      <td>0.377436</td>\n",
       "      <td>-1.387024</td>\n",
       "      <td>...</td>\n",
       "      <td>-0.108300</td>\n",
       "      <td>0.005274</td>\n",
       "      <td>-0.190321</td>\n",
       "      <td>-1.175575</td>\n",
       "      <td>0.647376</td>\n",
       "      <td>-0.221929</td>\n",
       "      <td>0.062723</td>\n",
       "      <td>0.061458</td>\n",
       "      <td>123.50</td>\n",
       "      <td>0</td>\n",
       "    </tr>\n",
       "    <tr>\n",
       "      <th>4</th>\n",
       "      <td>2.0</td>\n",
       "      <td>-1.158233</td>\n",
       "      <td>0.877737</td>\n",
       "      <td>1.548718</td>\n",
       "      <td>0.403034</td>\n",
       "      <td>-0.407193</td>\n",
       "      <td>0.095921</td>\n",
       "      <td>0.592941</td>\n",
       "      <td>-0.270533</td>\n",
       "      <td>0.817739</td>\n",
       "      <td>...</td>\n",
       "      <td>-0.009431</td>\n",
       "      <td>0.798278</td>\n",
       "      <td>-0.137458</td>\n",
       "      <td>0.141267</td>\n",
       "      <td>-0.206010</td>\n",
       "      <td>0.502292</td>\n",
       "      <td>0.219422</td>\n",
       "      <td>0.215153</td>\n",
       "      <td>69.99</td>\n",
       "      <td>0</td>\n",
       "    </tr>\n",
       "  </tbody>\n",
       "</table>\n",
       "<p>5 rows × 31 columns</p>\n",
       "</div>"
      ],
      "text/plain": [
       "   Time        V1        V2        V3        V4        V5        V6        V7  \\\n",
       "0   0.0 -1.359807 -0.072781  2.536347  1.378155 -0.338321  0.462388  0.239599   \n",
       "1   0.0  1.191857  0.266151  0.166480  0.448154  0.060018 -0.082361 -0.078803   \n",
       "2   1.0 -1.358354 -1.340163  1.773209  0.379780 -0.503198  1.800499  0.791461   \n",
       "3   1.0 -0.966272 -0.185226  1.792993 -0.863291 -0.010309  1.247203  0.237609   \n",
       "4   2.0 -1.158233  0.877737  1.548718  0.403034 -0.407193  0.095921  0.592941   \n",
       "\n",
       "         V8        V9  ...       V21       V22       V23       V24       V25  \\\n",
       "0  0.098698  0.363787  ... -0.018307  0.277838 -0.110474  0.066928  0.128539   \n",
       "1  0.085102 -0.255425  ... -0.225775 -0.638672  0.101288 -0.339846  0.167170   \n",
       "2  0.247676 -1.514654  ...  0.247998  0.771679  0.909412 -0.689281 -0.327642   \n",
       "3  0.377436 -1.387024  ... -0.108300  0.005274 -0.190321 -1.175575  0.647376   \n",
       "4 -0.270533  0.817739  ... -0.009431  0.798278 -0.137458  0.141267 -0.206010   \n",
       "\n",
       "        V26       V27       V28  Amount  Class  \n",
       "0 -0.189115  0.133558 -0.021053  149.62      0  \n",
       "1  0.125895 -0.008983  0.014724    2.69      0  \n",
       "2 -0.139097 -0.055353 -0.059752  378.66      0  \n",
       "3 -0.221929  0.062723  0.061458  123.50      0  \n",
       "4  0.502292  0.219422  0.215153   69.99      0  \n",
       "\n",
       "[5 rows x 31 columns]"
      ]
     },
     "execution_count": 102,
     "metadata": {},
     "output_type": "execute_result"
    }
   ],
   "source": [
    "data.head(5)"
   ]
  },
  {
   "cell_type": "code",
   "execution_count": 103,
   "id": "f2119e69-6606-49ce-8428-36920b88bcf0",
   "metadata": {},
   "outputs": [
    {
     "data": {
      "text/plain": [
       "count        31.000000\n",
       "mean       6447.513951\n",
       "std       31213.534835\n",
       "min           1.000000\n",
       "25%          17.315686\n",
       "50%          34.416326\n",
       "75%          80.280037\n",
       "max      172792.000000\n",
       "dtype: float64"
      ]
     },
     "execution_count": 103,
     "metadata": {},
     "output_type": "execute_result"
    }
   ],
   "source": [
    "desc =  data.describe().T\n",
    "data_ranges = desc['max'] - desc['min']\n",
    "data_ranges.describe()"
   ]
  },
  {
   "cell_type": "code",
   "execution_count": 104,
   "id": "e39f026d-3ec6-4b55-88be-5ae1e90b752b",
   "metadata": {},
   "outputs": [
    {
     "data": {
      "text/plain": [
       "Time      float64\n",
       "V1        float64\n",
       "V2        float64\n",
       "V3        float64\n",
       "V4        float64\n",
       "V5        float64\n",
       "V6        float64\n",
       "V7        float64\n",
       "V8        float64\n",
       "V9        float64\n",
       "V10       float64\n",
       "V11       float64\n",
       "V12       float64\n",
       "V13       float64\n",
       "V14       float64\n",
       "V15       float64\n",
       "V16       float64\n",
       "V17       float64\n",
       "V18       float64\n",
       "V19       float64\n",
       "V20       float64\n",
       "V21       float64\n",
       "V22       float64\n",
       "V23       float64\n",
       "V24       float64\n",
       "V25       float64\n",
       "V26       float64\n",
       "V27       float64\n",
       "V28       float64\n",
       "Amount    float64\n",
       "Class       int64\n",
       "dtype: object"
      ]
     },
     "execution_count": 104,
     "metadata": {},
     "output_type": "execute_result"
    }
   ],
   "source": [
    "data.dtypes"
   ]
  },
  {
   "cell_type": "code",
   "execution_count": 105,
   "id": "dbcda1ff-f862-47f1-b30c-ad3ea0932240",
   "metadata": {},
   "outputs": [],
   "source": [
    "response = data['Class']\n",
    "data = data.drop(columns=['Class'])"
   ]
  },
  {
   "cell_type": "markdown",
   "id": "8ad52a7b-e1a3-4cd8-8468-cc9ce4b24c2d",
   "metadata": {},
   "source": [
    "## Data Visualization"
   ]
  },
  {
   "cell_type": "code",
   "execution_count": 106,
   "id": "002a6442-44a9-43e5-b5ae-cde786d5bbf2",
   "metadata": {},
   "outputs": [
    {
     "data": {
      "text/plain": [
       "<AxesSubplot:>"
      ]
     },
     "execution_count": 106,
     "metadata": {},
     "output_type": "execute_result"
    },
    {
     "data": {
      "image/png": "[encoded data removed]",
      "text/plain": [
       "<Figure size 1440x1440 with 2 Axes>"
      ]
     },
     "metadata": {
      "needs_background": "light"
     },
     "output_type": "display_data"
    }
   ],
   "source": [
    "corrs = data.corr()\n",
    "plt.figure(figsize=(20,20))\n",
    "mask = np.triu(corrs)\n",
    "sns.heatmap(corrs, cmap=\"vlag\", mask=mask)"
   ]
  },
  {
   "cell_type": "markdown",
   "id": "40d6ca8f-8f32-4b99-a4c7-95e9dfff38f8",
   "metadata": {},
   "source": [
    "## Data Processing"
   ]
  },
  {
   "cell_type": "code",
   "execution_count": 107,
   "id": "70517873-cf55-4480-8441-9be8c87f8056",
   "metadata": {},
   "outputs": [],
   "source": [
    "from sklearn.decomposition import PCA"
   ]
  },
  {
   "cell_type": "code",
   "execution_count": 108,
   "id": "ceb79fd9-62bc-4e5c-ba77-27c07fe09ffb",
   "metadata": {},
   "outputs": [],
   "source": [
    "pca = PCA()"
   ]
  },
  {
   "cell_type": "code",
   "execution_count": 109,
   "id": "95b88b1a-ce95-426d-9c75-2fe7efc15641",
   "metadata": {},
   "outputs": [],
   "source": [
    "data_reduced = pca.fit_transform(data, 10)"
   ]
  },
  {
   "cell_type": "code",
   "execution_count": 110,
   "id": "f37d80da-cded-442a-a845-94fceaa14fab",
   "metadata": {},
   "outputs": [],
   "source": [
    "from sklearn.preprocessing import StandardScaler"
   ]
  },
  {
   "cell_type": "code",
   "execution_count": 111,
   "id": "221e7093-af90-4d25-80b6-2f625c94a420",
   "metadata": {},
   "outputs": [],
   "source": [
    "scaler = StandardScaler()"
   ]
  },
  {
   "cell_type": "code",
   "execution_count": 112,
   "id": "1e4cb3d6-3888-4857-b180-a635937303b1",
   "metadata": {},
   "outputs": [
    {
     "data": {
      "text/plain": [
       "StandardScaler()"
      ]
     },
     "execution_count": 112,
     "metadata": {},
     "output_type": "execute_result"
    }
   ],
   "source": [
    "scaler.fit(data)"
   ]
  },
  {
   "cell_type": "code",
   "execution_count": 113,
   "id": "9a691221-bdac-442b-86e7-7a18c9fa6004",
   "metadata": {},
   "outputs": [],
   "source": [
    "data = scaler.transform(data)\n",
    "response = response.to_numpy()"
   ]
  },
  {
   "cell_type": "code",
   "execution_count": 114,
   "id": "99e6c6d0-23d5-450a-80f2-b46fe5ad1d59",
   "metadata": {},
   "outputs": [],
   "source": [
    "data_reduced = scaler.transform(data_reduced)"
   ]
  },
  {
   "cell_type": "code",
   "execution_count": 115,
   "id": "32339228-bad9-4e9c-a140-64491f958338",
   "metadata": {},
   "outputs": [
    {
     "data": {
      "text/plain": [
       "array([[-1.99658302, -0.69424232, -0.04407492,  1.6727735 ,  0.97336551],\n",
       "       [-1.99658302,  0.60849633,  0.16117592,  0.1097971 ,  0.31652293],\n",
       "       [-1.99656197, -0.69350046, -0.81157783,  1.16946849,  0.26823129],\n",
       "       [-1.99656197, -0.4933249 , -0.11216942,  1.18251645, -0.60972664],\n",
       "       [-1.99654091, -0.59132976,  0.53154105,  1.02141168,  0.2846554 ]])"
      ]
     },
     "execution_count": 115,
     "metadata": {},
     "output_type": "execute_result"
    }
   ],
   "source": [
    "data[:5, :5]"
   ]
  },
  {
   "cell_type": "code",
   "execution_count": 116,
   "id": "e195239c-a553-481d-a2f8-aab12048cdea",
   "metadata": {},
   "outputs": [
    {
     "data": {
      "text/plain": [
       "array([0, 0, 0, 0, 0], dtype=int64)"
      ]
     },
     "execution_count": 116,
     "metadata": {},
     "output_type": "execute_result"
    }
   ],
   "source": [
    "response[:5]"
   ]
  },
  {
   "cell_type": "code",
   "execution_count": 117,
   "id": "1eaf1512-0591-481a-9036-721ea38abfc3",
   "metadata": {},
   "outputs": [],
   "source": [
    "from sklearn.model_selection import train_test_split"
   ]
  },
  {
   "cell_type": "code",
   "execution_count": 118,
   "id": "97cff7b4-4bdc-49a4-a4d9-b71676dc4f7b",
   "metadata": {},
   "outputs": [],
   "source": [
    "X_train, X_test, y_train, y_test = train_test_split(data, response)\n",
    "X_train_reduced, X_test_reduced, y_train_reduced, y_test_reduced = train_test_split(data_reduced, response)"
   ]
  },
  {
   "cell_type": "code",
   "execution_count": 119,
   "id": "97f50b01-ba8b-4199-8835-1c0e2f529947",
   "metadata": {},
   "outputs": [],
   "source": [
    "from collections import Counter"
   ]
  },
  {
   "cell_type": "code",
   "execution_count": 120,
   "id": "8f4d8438-497c-4314-9d67-f04fd65deb14",
   "metadata": {},
   "outputs": [
    {
     "data": {
      "text/plain": [
       "Counter({0: 213230, 1: 375})"
      ]
     },
     "execution_count": 120,
     "metadata": {},
     "output_type": "execute_result"
    }
   ],
   "source": [
    "Counter(y_train)"
   ]
  },
  {
   "cell_type": "code",
   "execution_count": 121,
   "id": "6e63289c-591d-4daf-a322-2eb552cb3b0f",
   "metadata": {},
   "outputs": [],
   "source": [
    "from imblearn.over_sampling import SMOTE"
   ]
  },
  {
   "cell_type": "code",
   "execution_count": 122,
   "id": "744b16dd-a39e-4887-bc81-4988664b37cc",
   "metadata": {},
   "outputs": [],
   "source": [
    "smote = SMOTE()\n",
    "X_train, y_train = smote.fit_resample(X_train, y_train)"
   ]
  },
  {
   "cell_type": "code",
   "execution_count": 123,
   "id": "0a3033d7-ce68-4144-b0bf-9f1a78f46824",
   "metadata": {},
   "outputs": [],
   "source": [
    "smote = SMOTE()\n",
    "X_train_reduced, y_train_reduced = smote.fit_resample(X_train_reduced, y_train_reduced)"
   ]
  },
  {
   "cell_type": "code",
   "execution_count": 139,
   "id": "d32c0b97-3932-45d8-b138-59eef0029ca7",
   "metadata": {},
   "outputs": [
    {
     "data": {
      "text/plain": [
       "Counter({0: 213231, 1: 213231})"
      ]
     },
     "execution_count": 139,
     "metadata": {},
     "output_type": "execute_result"
    }
   ],
   "source": [
    "Counter(y_train_reduced)"
   ]
  },
  {
   "cell_type": "code",
   "execution_count": 124,
   "id": "57605bc7-d0c9-4e8f-ad03-1f76fdd22f6b",
   "metadata": {},
   "outputs": [
    {
     "data": {
      "text/plain": [
       "Counter({0: 213230, 1: 213230})"
      ]
     },
     "execution_count": 124,
     "metadata": {},
     "output_type": "execute_result"
    }
   ],
   "source": [
    "Counter(y_train)"
   ]
  },
  {
   "cell_type": "markdown",
   "id": "89fc01c8-aa62-46dc-af62-3b522a231741",
   "metadata": {},
   "source": [
    "## Training our Ensemble Classifier"
   ]
  },
  {
   "cell_type": "code",
   "execution_count": 125,
   "id": "87ba6794-b0be-4692-b48b-aecd2d8af852",
   "metadata": {},
   "outputs": [],
   "source": [
    "from sklearn.ensemble import GradientBoostingClassifier"
   ]
  },
  {
   "cell_type": "code",
   "execution_count": 129,
   "id": "7e577435-4b06-4ead-b6fe-f24bed226ca1",
   "metadata": {},
   "outputs": [],
   "source": [
    "clf = GradientBoostingClassifier(verbose=2)"
   ]
  },
  {
   "cell_type": "code",
   "execution_count": 130,
   "id": "ed2f3d29-6690-4cfc-947e-baff89a321c8",
   "metadata": {},
   "outputs": [
    {
     "name": "stdout",
     "output_type": "stream",
     "text": [
      "      Iter       Train Loss   Remaining Time \n",
      "         1           1.2272            9.45m\n",
      "         2           1.0967            9.63m\n",
      "         3           0.9880            9.57m\n",
      "         4           0.8956            9.52m\n",
      "         5           0.8165            9.45m\n",
      "         6           0.7482            9.32m\n",
      "         7           0.6895            9.21m\n",
      "         8           0.6373            9.16m\n",
      "         9           0.5918            9.16m\n",
      "        10           0.5523            9.43m\n",
      "        11           0.5158            9.36m\n",
      "        12           0.4852            9.28m\n",
      "        13           0.4571            9.27m\n",
      "        14           0.4309            9.33m\n",
      "        15           0.4084            9.23m\n",
      "        16           0.3872            9.12m\n",
      "        17           0.3679            9.03m\n",
      "        18           0.3502            8.98m\n",
      "        19           0.3356            8.87m\n",
      "        20           0.3211            8.75m\n",
      "        21           0.3072            8.65m\n",
      "        22           0.2951            8.54m\n",
      "        23           0.2830            8.52m\n",
      "        24           0.2725            8.39m\n",
      "        25           0.2636            8.28m\n",
      "        26           0.2542            8.16m\n",
      "        27           0.2464            8.05m\n",
      "        28           0.2387            7.94m\n",
      "        29           0.2313            7.86m\n",
      "        30           0.2240            7.74m\n",
      "        31           0.2183            7.62m\n",
      "        32           0.2127            7.53m\n",
      "        33           0.2073            7.41m\n",
      "        34           0.2018            7.30m\n",
      "        35           0.1975            7.22m\n",
      "        36           0.1930            7.10m\n",
      "        37           0.1890            6.98m\n",
      "        38           0.1847            6.88m\n",
      "        39           0.1812            6.77m\n",
      "        40           0.1781            6.67m\n",
      "        41           0.1749            6.57m\n",
      "        42           0.1715            6.47m\n",
      "        43           0.1695            6.35m\n",
      "        44           0.1658            6.23m\n",
      "        45           0.1625            6.12m\n",
      "        46           0.1599            6.01m\n",
      "        47           0.1581            5.90m\n",
      "        48           0.1550            5.78m\n",
      "        49           0.1530            5.66m\n",
      "        50           0.1507            5.54m\n",
      "        51           0.1476            5.43m\n",
      "        52           0.1453            5.31m\n",
      "        53           0.1438            5.20m\n",
      "        54           0.1414            5.08m\n",
      "        55           0.1393            4.97m\n",
      "        56           0.1365            4.86m\n",
      "        57           0.1351            4.74m\n",
      "        58           0.1335            4.63m\n",
      "        59           0.1324            4.52m\n",
      "        60           0.1309            4.41m\n",
      "        61           0.1295            4.30m\n",
      "        62           0.1265            4.19m\n",
      "        63           0.1247            4.09m\n",
      "        64           0.1233            3.98m\n",
      "        65           0.1220            3.88m\n",
      "        66           0.1208            3.78m\n",
      "        67           0.1195            3.67m\n",
      "        68           0.1181            3.56m\n",
      "        69           0.1167            3.45m\n",
      "        70           0.1149            3.34m\n",
      "        71           0.1139            3.23m\n",
      "        72           0.1129            3.12m\n",
      "        73           0.1114            3.01m\n",
      "        74           0.1100            2.90m\n",
      "        75           0.1082            2.79m\n",
      "        76           0.1073            2.68m\n",
      "        77           0.1064            2.57m\n",
      "        78           0.1053            2.46m\n",
      "        79           0.1043            2.35m\n",
      "        80           0.1028            2.23m\n",
      "        81           0.1016            2.12m\n",
      "        82           0.1006            2.01m\n",
      "        83           0.0998            1.90m\n",
      "        84           0.0983            1.79m\n",
      "        85           0.0973            1.68m\n",
      "        86           0.0963            1.57m\n",
      "        87           0.0951            1.45m\n",
      "        88           0.0943            1.34m\n",
      "        89           0.0932            1.23m\n",
      "        90           0.0918            1.12m\n",
      "        91           0.0911            1.01m\n",
      "        92           0.0903           54.03s\n",
      "        93           0.0895           47.33s\n",
      "        94           0.0891           40.61s\n",
      "        95           0.0883           33.85s\n",
      "        96           0.0877           27.10s\n",
      "        97           0.0871           20.33s\n",
      "        98           0.0860           13.55s\n",
      "        99           0.0855            6.78s\n",
      "       100           0.0843            0.00s\n"
     ]
    },
    {
     "data": {
      "text/plain": [
       "GradientBoostingClassifier(verbose=2)"
      ]
     },
     "execution_count": 130,
     "metadata": {},
     "output_type": "execute_result"
    }
   ],
   "source": [
    "clf.fit(X_train_reduced, y_train_reduced)"
   ]
  },
  {
   "cell_type": "code",
   "execution_count": 135,
   "id": "68e60245-d774-455f-8408-7580e0e0ceb3",
   "metadata": {},
   "outputs": [],
   "source": [
    "y_pred_reduced = clf.predict(X_test_reduced)"
   ]
  },
  {
   "cell_type": "code",
   "execution_count": 138,
   "id": "394c4f10-4602-4b6c-9562-a4651121644c",
   "metadata": {},
   "outputs": [
    {
     "data": {
      "text/plain": [
       "Counter({0: 70456, 1: 746})"
      ]
     },
     "execution_count": 138,
     "metadata": {},
     "output_type": "execute_result"
    }
   ],
   "source": [
    "Counter(y_pred_reduced)"
   ]
  },
  {
   "cell_type": "code",
   "execution_count": 132,
   "id": "c0526e56-3282-4c9d-bf6b-2c7252a6aa5c",
   "metadata": {},
   "outputs": [],
   "source": [
    "from sklearn.metrics import classification_report, confusion_matrix"
   ]
  },
  {
   "cell_type": "code",
   "execution_count": 136,
   "id": "385ae993-aa81-4467-8897-d4b51398ca19",
   "metadata": {},
   "outputs": [
    {
     "data": {
      "text/plain": [
       "<AxesSubplot:>"
      ]
     },
     "execution_count": 136,
     "metadata": {},
     "output_type": "execute_result"
    },
    {
     "data": {
      "image/png": "[encoded data removed]",
      "text/plain": [
       "<Figure size 432x288 with 2 Axes>"
      ]
     },
     "metadata": {
      "needs_background": "light"
     },
     "output_type": "display_data"
    }
   ],
   "source": [
    "cm = confusion_matrix(y_test_reduced, y_pred_reduced)\n",
    "sns.heatmap(data=cm, cmap=\"Blues\")"
   ]
  },
  {
   "cell_type": "code",
   "execution_count": 140,
   "id": "4f86fdb4-a880-4957-b103-aa8575889f33",
   "metadata": {},
   "outputs": [
    {
     "name": "stdout",
     "output_type": "stream",
     "text": [
      "              precision    recall  f1-score   support\n",
      "\n",
      "           0       1.00      0.99      1.00     71084\n",
      "           1       0.14      0.86      0.24       118\n",
      "\n",
      "    accuracy                           0.99     71202\n",
      "   macro avg       0.57      0.93      0.62     71202\n",
      "weighted avg       1.00      0.99      0.99     71202\n",
      "\n"
     ]
    }
   ],
   "source": [
    "print(classification_report(y_test_reduced, y_pred_reduced))"
   ]
  },
  {
   "cell_type": "markdown",
   "id": "0f9ec4a2-fc83-4e9b-938a-4b942280d8f4",
   "metadata": {},
   "source": [
    "## Training our Neural Network"
   ]
  },
  {
   "cell_type": "code",
   "execution_count": 141,
   "id": "7ce42eac-5fa6-4d07-90f3-1751b905a8c3",
   "metadata": {},
   "outputs": [],
   "source": [
    "from keras.models import Sequential\n",
    "from keras.layers import Dense, Dropout"
   ]
  },
  {
   "cell_type": "code",
   "execution_count": 147,
   "id": "a8493325-42b5-4a73-980d-18ed0dc417e4",
   "metadata": {},
   "outputs": [],
   "source": [
    "model = Sequential([\n",
    "    Dense(units=16, input_dim=30, activation='relu'),\n",
    "    Dense(units=24, activation='relu'),\n",
    "    Dropout(0.5),\n",
    "    Dense(units=20, activation='relu'),\n",
    "    Dense(units=24, activation='relu'),\n",
    "    Dense(units=1, activation='sigmoid')\n",
    "])"
   ]
  },
  {
   "cell_type": "code",
   "execution_count": 148,
   "id": "9a764342-6957-425a-bae0-39aca5ade4ef",
   "metadata": {},
   "outputs": [
    {
     "name": "stdout",
     "output_type": "stream",
     "text": [
      "Model: \"sequential_1\"\n",
      "_________________________________________________________________\n",
      "Layer (type)                 Output Shape              Param #   \n",
      "=================================================================\n",
      "dense_5 (Dense)              (None, 16)                496       \n",
      "_________________________________________________________________\n",
      "dense_6 (Dense)              (None, 24)                408       \n",
      "_________________________________________________________________\n",
      "dropout_1 (Dropout)          (None, 24)                0         \n",
      "_________________________________________________________________\n",
      "dense_7 (Dense)              (None, 20)                500       \n",
      "_________________________________________________________________\n",
      "dense_8 (Dense)              (None, 24)                504       \n",
      "_________________________________________________________________\n",
      "dense_9 (Dense)              (None, 1)                 25        \n",
      "=================================================================\n",
      "Total params: 1,933\n",
      "Trainable params: 1,933\n",
      "Non-trainable params: 0\n",
      "_________________________________________________________________\n"
     ]
    }
   ],
   "source": [
    "model.summary()"
   ]
  },
  {
   "cell_type": "code",
   "execution_count": 150,
   "id": "57e0eeb7-09d8-4e85-8bbb-edab82c900d6",
   "metadata": {},
   "outputs": [
    {
     "name": "stdout",
     "output_type": "stream",
     "text": [
      "Epoch 1/5\n",
      "28431/28431 [==============================] - 35s 1ms/step - loss: 0.0352 - accuracy: 0.9881\n",
      "Epoch 2/5\n",
      "28431/28431 [==============================] - 31s 1ms/step - loss: 0.0167 - accuracy: 0.9955\n",
      "Epoch 3/5\n",
      "28431/28431 [==============================] - 36s 1ms/step - loss: 0.0134 - accuracy: 0.9965\n",
      "Epoch 4/5\n",
      "28431/28431 [==============================] - 36s 1ms/step - loss: 0.0102 - accuracy: 0.9974\n",
      "Epoch 5/5\n",
      "28431/28431 [==============================] - 46s 2ms/step - loss: 0.0102 - accuracy: 0.9973\n"
     ]
    },
    {
     "data": {
      "text/plain": [
       "<keras.callbacks.History at 0x24c2d37c130>"
      ]
     },
     "execution_count": 150,
     "metadata": {},
     "output_type": "execute_result"
    }
   ],
   "source": [
    "model.compile(optimizer=\"adam\", loss=\"binary_crossentropy\", metrics=[\"accuracy\"])\n",
    "model.fit(X_train, y_train, batch_size=15, epochs=5)"
   ]
  },
  {
   "cell_type": "code",
   "execution_count": 154,
   "id": "d60756aa-ca00-415e-b08a-9c664a907a43",
   "metadata": {},
   "outputs": [
    {
     "data": {
      "text/plain": [
       "array([0, 0, 0, ..., 0, 0, 0])"
      ]
     },
     "execution_count": 154,
     "metadata": {},
     "output_type": "execute_result"
    }
   ],
   "source": [
    "y_pred = model.predict_classes(X_test).T[0]\n",
    "y_pred"
   ]
  },
  {
   "cell_type": "code",
   "execution_count": 156,
   "id": "eef46a82-fe83-42d8-8321-65131473a203",
   "metadata": {},
   "outputs": [
    {
     "data": {
      "text/plain": [
       "<AxesSubplot:>"
      ]
     },
     "execution_count": 156,
     "metadata": {},
     "output_type": "execute_result"
    },
    {
     "data": {
      "image/png": "[encoded data removed]",
      "text/plain": [
       "<Figure size 432x288 with 2 Axes>"
      ]
     },
     "metadata": {
      "needs_background": "light"
     },
     "output_type": "display_data"
    }
   ],
   "source": [
    "cm = confusion_matrix(y_test, y_pred)\n",
    "sns.heatmap(data=cm, cmap=\"Blues\", annot=True)"
   ]
  },
  {
   "cell_type": "code",
   "execution_count": 157,
   "id": "5f4441b8-7fcc-4280-ac2a-fc4c5a66f15e",
   "metadata": {},
   "outputs": [
    {
     "name": "stdout",
     "output_type": "stream",
     "text": [
      "              precision    recall  f1-score   support\n",
      "\n",
      "           0       1.00      1.00      1.00     71085\n",
      "           1       0.36      0.84      0.51       117\n",
      "\n",
      "    accuracy                           1.00     71202\n",
      "   macro avg       0.68      0.92      0.75     71202\n",
      "weighted avg       1.00      1.00      1.00     71202\n",
      "\n"
     ]
    }
   ],
   "source": [
    "print(classification_report(y_test, y_pred))"
   ]
  },
  {
   "cell_type": "code",
   "execution_count": 158,
   "id": "a46c61d7-b8f1-41e7-b14d-cddd2f2d664f",
   "metadata": {},
   "outputs": [],
   "source": [
    "from sklearn.metrics import accuracy_score"
   ]
  },
  {
   "cell_type": "code",
   "execution_count": 159,
   "id": "e804443c-11d5-4185-9368-dcd1c8fe2925",
   "metadata": {},
   "outputs": [
    {
     "name": "stdout",
     "output_type": "stream",
     "text": [
      "Accuracy Score: 99.7332%\n"
     ]
    }
   ],
   "source": [
    "acc = accuracy_score(y_test, y_pred)\n",
    "print(f\"Accuracy Score: {round(acc*100, 4)}%\")"
   ]
  },
  {
   "cell_type": "markdown",
   "id": "fe95f1d7-9201-4487-a6ba-2ed81cd6b44e",
   "metadata": {},
   "source": [
    "## Conclusion\n",
    "In conclusion, we can see that our accuracy score is at 99.73% which is a bit over our requirement of 99%. From here we can make the conclusion that using a neural network or similar model can be an effective solution to predicting whether a credit card is fraudulent.<br>\n",
    "To futher expand this, we could later attempt to identify what features where most important in predicting whether a card is fraudulent, in order to learn patterns of those who commit fraud. "
   ]
  },
  {
   "cell_type": "code",
   "execution_count": null,
   "id": "4205c0aa-d977-483c-afa2-fc82ab5d69d6",
   "metadata": {},
   "outputs": [],
   "source": []
  }
 ],
 "metadata": {
  "kernelspec": {
   "display_name": "Python 3",
   "language": "python",
   "name": "python3"
  },
  "language_info": {
   "codemirror_mode": {
    "name": "ipython",
    "version": 3
   },
   "file_extension": ".py",
   "mimetype": "text/x-python",
   "name": "python",
   "nbconvert_exporter": "python",
   "pygments_lexer": "ipython3",
   "version": "3.9.4"
  }
 },
 "nbformat": 4,
 "nbformat_minor": 5
}
