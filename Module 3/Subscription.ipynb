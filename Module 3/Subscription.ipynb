{
 "cells": [
  {
   "cell_type": "markdown",
   "id": "a9d0d8f3-65b0-4c79-94c1-56c5887fdcc2",
   "metadata": {},
   "source": [
    "# Subscription Prediction\n",
    "## Written by Leo Carrico\n",
    "\n",
    "The basis is that there exists a mobile app with all sorts of free and premium features for the Users to use. The first day that the Users download the app, they are given a 24 hour free trial for the premium subscription. During the first 24 hours, we track which screens they visit, any pages they liked, and an activitiy that they do. <br>\n",
    "Based on their interactions with the app within the first 24 hours, we would like to predict their likelihood of purchasing a subscription for the premium membership."
   ]
  },
  {
   "cell_type": "markdown",
   "id": "c2869573-fd52-44e8-af8f-07ff39758777",
   "metadata": {},
   "source": [
    "## Importing our data"
   ]
  },
  {
   "cell_type": "code",
   "execution_count": 216,
   "id": "f36907be-77d8-4689-af64-c7506da3e451",
   "metadata": {},
   "outputs": [],
   "source": [
    "import pandas as pd\n",
    "import numpy as np\n",
    "import matplotlib.pyplot as plt\n",
    "import seaborn as sns\n",
    "from dateutil import parser\n",
    "import time"
   ]
  },
  {
   "cell_type": "code",
   "execution_count": 217,
   "id": "d0fbefa0-1911-4ac7-b5a3-146040da7acb",
   "metadata": {},
   "outputs": [
    {
     "data": {
      "text/html": [
       "<div>\n",
       "<style scoped>\n",
       "    .dataframe tbody tr th:only-of-type {\n",
       "        vertical-align: middle;\n",
       "    }\n",
       "\n",
       "    .dataframe tbody tr th {\n",
       "        vertical-align: top;\n",
       "    }\n",
       "\n",
       "    .dataframe thead th {\n",
       "        text-align: right;\n",
       "    }\n",
       "</style>\n",
       "<table border=\"1\" class=\"dataframe\">\n",
       "  <thead>\n",
       "    <tr style=\"text-align: right;\">\n",
       "      <th></th>\n",
       "      <th>user</th>\n",
       "      <th>first_open</th>\n",
       "      <th>dayofweek</th>\n",
       "      <th>hour</th>\n",
       "      <th>age</th>\n",
       "      <th>screen_list</th>\n",
       "      <th>numscreens</th>\n",
       "      <th>minigame</th>\n",
       "      <th>used_premium_feature</th>\n",
       "      <th>enrolled</th>\n",
       "      <th>enrolled_date</th>\n",
       "      <th>liked</th>\n",
       "    </tr>\n",
       "  </thead>\n",
       "  <tbody>\n",
       "    <tr>\n",
       "      <th>0</th>\n",
       "      <td>235136</td>\n",
       "      <td>2012-12-27 02:14:51.273</td>\n",
       "      <td>3</td>\n",
       "      <td>02:00:00</td>\n",
       "      <td>23</td>\n",
       "      <td>idscreen,joinscreen,Cycle,product_review,ScanP...</td>\n",
       "      <td>15</td>\n",
       "      <td>0</td>\n",
       "      <td>0</td>\n",
       "      <td>0</td>\n",
       "      <td>NaN</td>\n",
       "      <td>0</td>\n",
       "    </tr>\n",
       "    <tr>\n",
       "      <th>1</th>\n",
       "      <td>333588</td>\n",
       "      <td>2012-12-02 01:16:00.905</td>\n",
       "      <td>6</td>\n",
       "      <td>01:00:00</td>\n",
       "      <td>24</td>\n",
       "      <td>joinscreen,product_review,product_review2,Scan...</td>\n",
       "      <td>13</td>\n",
       "      <td>0</td>\n",
       "      <td>0</td>\n",
       "      <td>0</td>\n",
       "      <td>NaN</td>\n",
       "      <td>0</td>\n",
       "    </tr>\n",
       "    <tr>\n",
       "      <th>2</th>\n",
       "      <td>254414</td>\n",
       "      <td>2013-03-19 19:19:09.157</td>\n",
       "      <td>1</td>\n",
       "      <td>19:00:00</td>\n",
       "      <td>23</td>\n",
       "      <td>Splash,Cycle,Loan</td>\n",
       "      <td>3</td>\n",
       "      <td>0</td>\n",
       "      <td>1</td>\n",
       "      <td>0</td>\n",
       "      <td>NaN</td>\n",
       "      <td>1</td>\n",
       "    </tr>\n",
       "    <tr>\n",
       "      <th>3</th>\n",
       "      <td>234192</td>\n",
       "      <td>2013-07-05 16:08:46.354</td>\n",
       "      <td>4</td>\n",
       "      <td>16:00:00</td>\n",
       "      <td>28</td>\n",
       "      <td>product_review,Home,product_review,Loan3,Finan...</td>\n",
       "      <td>40</td>\n",
       "      <td>0</td>\n",
       "      <td>0</td>\n",
       "      <td>1</td>\n",
       "      <td>2013-07-05 16:11:49.513</td>\n",
       "      <td>0</td>\n",
       "    </tr>\n",
       "    <tr>\n",
       "      <th>4</th>\n",
       "      <td>51549</td>\n",
       "      <td>2013-02-26 18:50:48.661</td>\n",
       "      <td>1</td>\n",
       "      <td>18:00:00</td>\n",
       "      <td>31</td>\n",
       "      <td>idscreen,joinscreen,Cycle,Credit3Container,Sca...</td>\n",
       "      <td>32</td>\n",
       "      <td>0</td>\n",
       "      <td>0</td>\n",
       "      <td>1</td>\n",
       "      <td>2013-02-26 18:56:37.841</td>\n",
       "      <td>1</td>\n",
       "    </tr>\n",
       "    <tr>\n",
       "      <th>5</th>\n",
       "      <td>56480</td>\n",
       "      <td>2013-04-03 09:58:15.752</td>\n",
       "      <td>2</td>\n",
       "      <td>09:00:00</td>\n",
       "      <td>20</td>\n",
       "      <td>idscreen,Cycle,Home,ScanPreview,VerifyPhone,Ve...</td>\n",
       "      <td>14</td>\n",
       "      <td>0</td>\n",
       "      <td>0</td>\n",
       "      <td>1</td>\n",
       "      <td>2013-04-03 09:59:03.291</td>\n",
       "      <td>0</td>\n",
       "    </tr>\n",
       "    <tr>\n",
       "      <th>6</th>\n",
       "      <td>144649</td>\n",
       "      <td>2012-12-25 02:33:18.461</td>\n",
       "      <td>1</td>\n",
       "      <td>02:00:00</td>\n",
       "      <td>35</td>\n",
       "      <td>product_review,product_review2,ScanPreview</td>\n",
       "      <td>3</td>\n",
       "      <td>0</td>\n",
       "      <td>0</td>\n",
       "      <td>0</td>\n",
       "      <td>NaN</td>\n",
       "      <td>0</td>\n",
       "    </tr>\n",
       "    <tr>\n",
       "      <th>7</th>\n",
       "      <td>249366</td>\n",
       "      <td>2012-12-11 03:07:49.875</td>\n",
       "      <td>1</td>\n",
       "      <td>03:00:00</td>\n",
       "      <td>26</td>\n",
       "      <td>Splash,Cycle,Home,Credit3Container,Credit3Dash...</td>\n",
       "      <td>41</td>\n",
       "      <td>0</td>\n",
       "      <td>1</td>\n",
       "      <td>0</td>\n",
       "      <td>NaN</td>\n",
       "      <td>0</td>\n",
       "    </tr>\n",
       "    <tr>\n",
       "      <th>8</th>\n",
       "      <td>372004</td>\n",
       "      <td>2013-03-20 14:22:01.569</td>\n",
       "      <td>2</td>\n",
       "      <td>14:00:00</td>\n",
       "      <td>29</td>\n",
       "      <td>product_review,product_review2,ScanPreview,Ver...</td>\n",
       "      <td>33</td>\n",
       "      <td>1</td>\n",
       "      <td>1</td>\n",
       "      <td>1</td>\n",
       "      <td>2013-04-27 22:24:54.542</td>\n",
       "      <td>0</td>\n",
       "    </tr>\n",
       "    <tr>\n",
       "      <th>9</th>\n",
       "      <td>338013</td>\n",
       "      <td>2013-04-26 18:22:16.013</td>\n",
       "      <td>4</td>\n",
       "      <td>18:00:00</td>\n",
       "      <td>26</td>\n",
       "      <td>Home,Loan2,product_review,product_review,produ...</td>\n",
       "      <td>19</td>\n",
       "      <td>0</td>\n",
       "      <td>0</td>\n",
       "      <td>1</td>\n",
       "      <td>2013-04-26 18:31:58.923</td>\n",
       "      <td>0</td>\n",
       "    </tr>\n",
       "  </tbody>\n",
       "</table>\n",
       "</div>"
      ],
      "text/plain": [
       "     user               first_open  dayofweek       hour  age  \\\n",
       "0  235136  2012-12-27 02:14:51.273          3   02:00:00   23   \n",
       "1  333588  2012-12-02 01:16:00.905          6   01:00:00   24   \n",
       "2  254414  2013-03-19 19:19:09.157          1   19:00:00   23   \n",
       "3  234192  2013-07-05 16:08:46.354          4   16:00:00   28   \n",
       "4   51549  2013-02-26 18:50:48.661          1   18:00:00   31   \n",
       "5   56480  2013-04-03 09:58:15.752          2   09:00:00   20   \n",
       "6  144649  2012-12-25 02:33:18.461          1   02:00:00   35   \n",
       "7  249366  2012-12-11 03:07:49.875          1   03:00:00   26   \n",
       "8  372004  2013-03-20 14:22:01.569          2   14:00:00   29   \n",
       "9  338013  2013-04-26 18:22:16.013          4   18:00:00   26   \n",
       "\n",
       "                                         screen_list  numscreens  minigame  \\\n",
       "0  idscreen,joinscreen,Cycle,product_review,ScanP...          15         0   \n",
       "1  joinscreen,product_review,product_review2,Scan...          13         0   \n",
       "2                                  Splash,Cycle,Loan           3         0   \n",
       "3  product_review,Home,product_review,Loan3,Finan...          40         0   \n",
       "4  idscreen,joinscreen,Cycle,Credit3Container,Sca...          32         0   \n",
       "5  idscreen,Cycle,Home,ScanPreview,VerifyPhone,Ve...          14         0   \n",
       "6         product_review,product_review2,ScanPreview           3         0   \n",
       "7  Splash,Cycle,Home,Credit3Container,Credit3Dash...          41         0   \n",
       "8  product_review,product_review2,ScanPreview,Ver...          33         1   \n",
       "9  Home,Loan2,product_review,product_review,produ...          19         0   \n",
       "\n",
       "   used_premium_feature  enrolled            enrolled_date  liked  \n",
       "0                     0         0                      NaN      0  \n",
       "1                     0         0                      NaN      0  \n",
       "2                     1         0                      NaN      1  \n",
       "3                     0         1  2013-07-05 16:11:49.513      0  \n",
       "4                     0         1  2013-02-26 18:56:37.841      1  \n",
       "5                     0         1  2013-04-03 09:59:03.291      0  \n",
       "6                     0         0                      NaN      0  \n",
       "7                     1         0                      NaN      0  \n",
       "8                     1         1  2013-04-27 22:24:54.542      0  \n",
       "9                     0         1  2013-04-26 18:31:58.923      0  "
      ]
     },
     "execution_count": 217,
     "metadata": {},
     "output_type": "execute_result"
    }
   ],
   "source": [
    "data = pd.read_csv(\"data/appdata10.csv\")\n",
    "data.head(10)"
   ]
  },
  {
   "cell_type": "code",
   "execution_count": 218,
   "id": "004052f2-6fc9-4266-816c-6854ce364400",
   "metadata": {},
   "outputs": [
    {
     "data": {
      "text/html": [
       "<div>\n",
       "<style scoped>\n",
       "    .dataframe tbody tr th:only-of-type {\n",
       "        vertical-align: middle;\n",
       "    }\n",
       "\n",
       "    .dataframe tbody tr th {\n",
       "        vertical-align: top;\n",
       "    }\n",
       "\n",
       "    .dataframe thead th {\n",
       "        text-align: right;\n",
       "    }\n",
       "</style>\n",
       "<table border=\"1\" class=\"dataframe\">\n",
       "  <thead>\n",
       "    <tr style=\"text-align: right;\">\n",
       "      <th></th>\n",
       "      <th>user</th>\n",
       "      <th>dayofweek</th>\n",
       "      <th>age</th>\n",
       "      <th>numscreens</th>\n",
       "      <th>minigame</th>\n",
       "      <th>used_premium_feature</th>\n",
       "      <th>enrolled</th>\n",
       "      <th>liked</th>\n",
       "    </tr>\n",
       "  </thead>\n",
       "  <tbody>\n",
       "    <tr>\n",
       "      <th>count</th>\n",
       "      <td>50000.000000</td>\n",
       "      <td>50000.000000</td>\n",
       "      <td>50000.00000</td>\n",
       "      <td>50000.000000</td>\n",
       "      <td>50000.000000</td>\n",
       "      <td>50000.000000</td>\n",
       "      <td>50000.000000</td>\n",
       "      <td>50000.000000</td>\n",
       "    </tr>\n",
       "    <tr>\n",
       "      <th>mean</th>\n",
       "      <td>186889.729900</td>\n",
       "      <td>3.029860</td>\n",
       "      <td>31.72436</td>\n",
       "      <td>21.095900</td>\n",
       "      <td>0.107820</td>\n",
       "      <td>0.172020</td>\n",
       "      <td>0.621480</td>\n",
       "      <td>0.165000</td>\n",
       "    </tr>\n",
       "    <tr>\n",
       "      <th>std</th>\n",
       "      <td>107768.520361</td>\n",
       "      <td>2.031997</td>\n",
       "      <td>10.80331</td>\n",
       "      <td>15.728812</td>\n",
       "      <td>0.310156</td>\n",
       "      <td>0.377402</td>\n",
       "      <td>0.485023</td>\n",
       "      <td>0.371184</td>\n",
       "    </tr>\n",
       "    <tr>\n",
       "      <th>min</th>\n",
       "      <td>13.000000</td>\n",
       "      <td>0.000000</td>\n",
       "      <td>16.00000</td>\n",
       "      <td>1.000000</td>\n",
       "      <td>0.000000</td>\n",
       "      <td>0.000000</td>\n",
       "      <td>0.000000</td>\n",
       "      <td>0.000000</td>\n",
       "    </tr>\n",
       "    <tr>\n",
       "      <th>25%</th>\n",
       "      <td>93526.750000</td>\n",
       "      <td>1.000000</td>\n",
       "      <td>24.00000</td>\n",
       "      <td>10.000000</td>\n",
       "      <td>0.000000</td>\n",
       "      <td>0.000000</td>\n",
       "      <td>0.000000</td>\n",
       "      <td>0.000000</td>\n",
       "    </tr>\n",
       "    <tr>\n",
       "      <th>50%</th>\n",
       "      <td>187193.500000</td>\n",
       "      <td>3.000000</td>\n",
       "      <td>29.00000</td>\n",
       "      <td>18.000000</td>\n",
       "      <td>0.000000</td>\n",
       "      <td>0.000000</td>\n",
       "      <td>1.000000</td>\n",
       "      <td>0.000000</td>\n",
       "    </tr>\n",
       "    <tr>\n",
       "      <th>75%</th>\n",
       "      <td>279984.250000</td>\n",
       "      <td>5.000000</td>\n",
       "      <td>37.00000</td>\n",
       "      <td>28.000000</td>\n",
       "      <td>0.000000</td>\n",
       "      <td>0.000000</td>\n",
       "      <td>1.000000</td>\n",
       "      <td>0.000000</td>\n",
       "    </tr>\n",
       "    <tr>\n",
       "      <th>max</th>\n",
       "      <td>373662.000000</td>\n",
       "      <td>6.000000</td>\n",
       "      <td>101.00000</td>\n",
       "      <td>325.000000</td>\n",
       "      <td>1.000000</td>\n",
       "      <td>1.000000</td>\n",
       "      <td>1.000000</td>\n",
       "      <td>1.000000</td>\n",
       "    </tr>\n",
       "  </tbody>\n",
       "</table>\n",
       "</div>"
      ],
      "text/plain": [
       "                user     dayofweek          age    numscreens      minigame  \\\n",
       "count   50000.000000  50000.000000  50000.00000  50000.000000  50000.000000   \n",
       "mean   186889.729900      3.029860     31.72436     21.095900      0.107820   \n",
       "std    107768.520361      2.031997     10.80331     15.728812      0.310156   \n",
       "min        13.000000      0.000000     16.00000      1.000000      0.000000   \n",
       "25%     93526.750000      1.000000     24.00000     10.000000      0.000000   \n",
       "50%    187193.500000      3.000000     29.00000     18.000000      0.000000   \n",
       "75%    279984.250000      5.000000     37.00000     28.000000      0.000000   \n",
       "max    373662.000000      6.000000    101.00000    325.000000      1.000000   \n",
       "\n",
       "       used_premium_feature      enrolled         liked  \n",
       "count          50000.000000  50000.000000  50000.000000  \n",
       "mean               0.172020      0.621480      0.165000  \n",
       "std                0.377402      0.485023      0.371184  \n",
       "min                0.000000      0.000000      0.000000  \n",
       "25%                0.000000      0.000000      0.000000  \n",
       "50%                0.000000      1.000000      0.000000  \n",
       "75%                0.000000      1.000000      0.000000  \n",
       "max                1.000000      1.000000      1.000000  "
      ]
     },
     "execution_count": 218,
     "metadata": {},
     "output_type": "execute_result"
    }
   ],
   "source": [
    "data.describe()"
   ]
  },
  {
   "cell_type": "markdown",
   "id": "0004e85f-d86a-41b5-b97e-7f63feea29fd",
   "metadata": {},
   "source": [
    "## Data Cleaning\n",
    "In order to begin analysing and predicting, we need to clean our dataset."
   ]
  },
  {
   "cell_type": "code",
   "execution_count": 219,
   "id": "feac1ef6-2ac4-4370-b960-6f96f981b977",
   "metadata": {},
   "outputs": [
    {
     "data": {
      "text/plain": [
       "count    50000.000000\n",
       "mean        12.557220\n",
       "std          7.438072\n",
       "min          0.000000\n",
       "25%          5.000000\n",
       "50%         14.000000\n",
       "75%         19.000000\n",
       "max         23.000000\n",
       "Name: hour, dtype: float64"
      ]
     },
     "execution_count": 219,
     "metadata": {},
     "output_type": "execute_result"
    }
   ],
   "source": [
    "data['hour'] = data.hour.str.slice(1, 3).astype(int)\n",
    "data['hour'].describe()"
   ]
  },
  {
   "cell_type": "code",
   "execution_count": 220,
   "id": "9c922e8c-3d08-4db2-b0cb-eef44df5f599",
   "metadata": {},
   "outputs": [
    {
     "data": {
      "text/html": [
       "<div>\n",
       "<style scoped>\n",
       "    .dataframe tbody tr th:only-of-type {\n",
       "        vertical-align: middle;\n",
       "    }\n",
       "\n",
       "    .dataframe tbody tr th {\n",
       "        vertical-align: top;\n",
       "    }\n",
       "\n",
       "    .dataframe thead th {\n",
       "        text-align: right;\n",
       "    }\n",
       "</style>\n",
       "<table border=\"1\" class=\"dataframe\">\n",
       "  <thead>\n",
       "    <tr style=\"text-align: right;\">\n",
       "      <th></th>\n",
       "      <th>dayofweek</th>\n",
       "      <th>hour</th>\n",
       "      <th>age</th>\n",
       "      <th>numscreens</th>\n",
       "      <th>minigame</th>\n",
       "      <th>used_premium_feature</th>\n",
       "      <th>liked</th>\n",
       "    </tr>\n",
       "  </thead>\n",
       "  <tbody>\n",
       "    <tr>\n",
       "      <th>0</th>\n",
       "      <td>3</td>\n",
       "      <td>2</td>\n",
       "      <td>23</td>\n",
       "      <td>15</td>\n",
       "      <td>0</td>\n",
       "      <td>0</td>\n",
       "      <td>0</td>\n",
       "    </tr>\n",
       "    <tr>\n",
       "      <th>1</th>\n",
       "      <td>6</td>\n",
       "      <td>1</td>\n",
       "      <td>24</td>\n",
       "      <td>13</td>\n",
       "      <td>0</td>\n",
       "      <td>0</td>\n",
       "      <td>0</td>\n",
       "    </tr>\n",
       "    <tr>\n",
       "      <th>2</th>\n",
       "      <td>1</td>\n",
       "      <td>19</td>\n",
       "      <td>23</td>\n",
       "      <td>3</td>\n",
       "      <td>0</td>\n",
       "      <td>1</td>\n",
       "      <td>1</td>\n",
       "    </tr>\n",
       "    <tr>\n",
       "      <th>3</th>\n",
       "      <td>4</td>\n",
       "      <td>16</td>\n",
       "      <td>28</td>\n",
       "      <td>40</td>\n",
       "      <td>0</td>\n",
       "      <td>0</td>\n",
       "      <td>0</td>\n",
       "    </tr>\n",
       "    <tr>\n",
       "      <th>4</th>\n",
       "      <td>1</td>\n",
       "      <td>18</td>\n",
       "      <td>31</td>\n",
       "      <td>32</td>\n",
       "      <td>0</td>\n",
       "      <td>0</td>\n",
       "      <td>1</td>\n",
       "    </tr>\n",
       "  </tbody>\n",
       "</table>\n",
       "</div>"
      ],
      "text/plain": [
       "   dayofweek  hour  age  numscreens  minigame  used_premium_feature  liked\n",
       "0          3     2   23          15         0                     0      0\n",
       "1          6     1   24          13         0                     0      0\n",
       "2          1    19   23           3         0                     1      1\n",
       "3          4    16   28          40         0                     0      0\n",
       "4          1    18   31          32         0                     0      1"
      ]
     },
     "execution_count": 220,
     "metadata": {},
     "output_type": "execute_result"
    }
   ],
   "source": [
    "base_features = data[['dayofweek', 'hour', 'age', 'numscreens', 'minigame', 'used_premium_feature','liked']]\n",
    "base_features.head(5)"
   ]
  },
  {
   "cell_type": "markdown",
   "id": "273eb1ae-7cd1-4377-8692-71edf5611729",
   "metadata": {},
   "source": [
    "## Numerical Visualizations"
   ]
  },
  {
   "cell_type": "code",
   "execution_count": 221,
   "id": "5193c5c5-6ef4-4b45-bb9e-1bb61dc72d9d",
   "metadata": {},
   "outputs": [
    {
     "data": {
      "image/png": "[encoded data removed]",
      "text/plain": [
       "<Figure size 1440x1080 with 9 Axes>"
      ]
     },
     "metadata": {
      "needs_background": "light"
     },
     "output_type": "display_data"
    }
   ],
   "source": [
    "n = len(base_features.columns)\n",
    "cols = 3\n",
    "rows = round(n/cols + 0.5)\n",
    "\n",
    "fig, ax = plt.subplots(rows, cols, figsize=(20,15))\n",
    "for i in range(rows):\n",
    "    for j in range(cols):\n",
    "        curr = cols*i + j\n",
    "        if curr >= n:\n",
    "            ax[i, j].axis('off')\n",
    "        else:\n",
    "            bins = len(data[base_features.columns[curr]].unique())\n",
    "            sns.histplot(data=data, x=base_features.columns[curr], ax=ax[i, j], bins=bins)\n"
   ]
  },
  {
   "cell_type": "raw",
   "id": "7e0c0981-1f25-4119-9b97-cadabd297be5",
   "metadata": {},
   "source": [
    "# Base features to label correlations\n",
    "bflc = base_features.corrwith(data['enrolled'])\n",
    "bflc"
   ]
  },
  {
   "cell_type": "code",
   "execution_count": 222,
   "id": "728ab478-cc5d-4c15-97bd-90980962f182",
   "metadata": {},
   "outputs": [
    {
     "data": {
      "text/plain": [
       "<AxesSubplot:>"
      ]
     },
     "execution_count": 222,
     "metadata": {},
     "output_type": "execute_result"
    },
    {
     "data": {
      "image/png": "[encoded data removed]",
      "text/plain": [
       "<Figure size 720x360 with 1 Axes>"
      ]
     },
     "metadata": {
      "needs_background": "light"
     },
     "output_type": "display_data"
    }
   ],
   "source": [
    "plt.figure(figsize=(10,5))\n",
    "plt.xticks(rotation=20)\n",
    "sns.barplot(x=bflc.index, y=bflc.values)"
   ]
  },
  {
   "cell_type": "code",
   "execution_count": 223,
   "id": "29eb0425-0d3e-41dc-92be-16e7e6074eb7",
   "metadata": {},
   "outputs": [
    {
     "data": {
      "text/html": [
       "<div>\n",
       "<style scoped>\n",
       "    .dataframe tbody tr th:only-of-type {\n",
       "        vertical-align: middle;\n",
       "    }\n",
       "\n",
       "    .dataframe tbody tr th {\n",
       "        vertical-align: top;\n",
       "    }\n",
       "\n",
       "    .dataframe thead th {\n",
       "        text-align: right;\n",
       "    }\n",
       "</style>\n",
       "<table border=\"1\" class=\"dataframe\">\n",
       "  <thead>\n",
       "    <tr style=\"text-align: right;\">\n",
       "      <th></th>\n",
       "      <th>dayofweek</th>\n",
       "      <th>hour</th>\n",
       "      <th>age</th>\n",
       "      <th>numscreens</th>\n",
       "      <th>minigame</th>\n",
       "      <th>used_premium_feature</th>\n",
       "      <th>liked</th>\n",
       "    </tr>\n",
       "  </thead>\n",
       "  <tbody>\n",
       "    <tr>\n",
       "      <th>dayofweek</th>\n",
       "      <td>1.000000</td>\n",
       "      <td>0.013249</td>\n",
       "      <td>-0.012326</td>\n",
       "      <td>0.007925</td>\n",
       "      <td>-0.008631</td>\n",
       "      <td>0.001439</td>\n",
       "      <td>-0.005737</td>\n",
       "    </tr>\n",
       "    <tr>\n",
       "      <th>hour</th>\n",
       "      <td>0.013249</td>\n",
       "      <td>1.000000</td>\n",
       "      <td>0.018859</td>\n",
       "      <td>-0.076756</td>\n",
       "      <td>-0.009120</td>\n",
       "      <td>0.022553</td>\n",
       "      <td>-0.001725</td>\n",
       "    </tr>\n",
       "    <tr>\n",
       "      <th>age</th>\n",
       "      <td>-0.012326</td>\n",
       "      <td>0.018859</td>\n",
       "      <td>1.000000</td>\n",
       "      <td>-0.128739</td>\n",
       "      <td>0.019745</td>\n",
       "      <td>0.004301</td>\n",
       "      <td>-0.002593</td>\n",
       "    </tr>\n",
       "    <tr>\n",
       "      <th>numscreens</th>\n",
       "      <td>0.007925</td>\n",
       "      <td>-0.076756</td>\n",
       "      <td>-0.128739</td>\n",
       "      <td>1.000000</td>\n",
       "      <td>0.041154</td>\n",
       "      <td>0.061972</td>\n",
       "      <td>-0.007349</td>\n",
       "    </tr>\n",
       "    <tr>\n",
       "      <th>minigame</th>\n",
       "      <td>-0.008631</td>\n",
       "      <td>-0.009120</td>\n",
       "      <td>0.019745</td>\n",
       "      <td>0.041154</td>\n",
       "      <td>1.000000</td>\n",
       "      <td>0.108780</td>\n",
       "      <td>-0.012250</td>\n",
       "    </tr>\n",
       "    <tr>\n",
       "      <th>used_premium_feature</th>\n",
       "      <td>0.001439</td>\n",
       "      <td>0.022553</td>\n",
       "      <td>0.004301</td>\n",
       "      <td>0.061972</td>\n",
       "      <td>0.108780</td>\n",
       "      <td>1.000000</td>\n",
       "      <td>0.001690</td>\n",
       "    </tr>\n",
       "    <tr>\n",
       "      <th>liked</th>\n",
       "      <td>-0.005737</td>\n",
       "      <td>-0.001725</td>\n",
       "      <td>-0.002593</td>\n",
       "      <td>-0.007349</td>\n",
       "      <td>-0.012250</td>\n",
       "      <td>0.001690</td>\n",
       "      <td>1.000000</td>\n",
       "    </tr>\n",
       "  </tbody>\n",
       "</table>\n",
       "</div>"
      ],
      "text/plain": [
       "                      dayofweek      hour       age  numscreens  minigame  \\\n",
       "dayofweek              1.000000  0.013249 -0.012326    0.007925 -0.008631   \n",
       "hour                   0.013249  1.000000  0.018859   -0.076756 -0.009120   \n",
       "age                   -0.012326  0.018859  1.000000   -0.128739  0.019745   \n",
       "numscreens             0.007925 -0.076756 -0.128739    1.000000  0.041154   \n",
       "minigame              -0.008631 -0.009120  0.019745    0.041154  1.000000   \n",
       "used_premium_feature   0.001439  0.022553  0.004301    0.061972  0.108780   \n",
       "liked                 -0.005737 -0.001725 -0.002593   -0.007349 -0.012250   \n",
       "\n",
       "                      used_premium_feature     liked  \n",
       "dayofweek                         0.001439 -0.005737  \n",
       "hour                              0.022553 -0.001725  \n",
       "age                               0.004301 -0.002593  \n",
       "numscreens                        0.061972 -0.007349  \n",
       "minigame                          0.108780 -0.012250  \n",
       "used_premium_feature              1.000000  0.001690  \n",
       "liked                             0.001690  1.000000  "
      ]
     },
     "execution_count": 223,
     "metadata": {},
     "output_type": "execute_result"
    }
   ],
   "source": [
    "# Base Features Correlations\n",
    "bfc = base_features.corr()\n",
    "bfc"
   ]
  },
  {
   "cell_type": "code",
   "execution_count": 224,
   "id": "e619c71c-7d93-451c-a612-ff01d5253b3d",
   "metadata": {},
   "outputs": [
    {
     "data": {
      "image/png": "[encoded data removed]",
      "text/plain": [
       "<Figure size 1080x720 with 2 Axes>"
      ]
     },
     "metadata": {
      "needs_background": "light"
     },
     "output_type": "display_data"
    }
   ],
   "source": [
    "plt.figure(figsize=(15,10))\n",
    "sns.heatmap(data=bfc, cmap=\"Purples\")\n",
    "plt.xticks(rotation=0)\n",
    "\n",
    "# This is a shortcut to hide the tick information\n",
    "print(end=\"\")"
   ]
  },
  {
   "cell_type": "markdown",
   "id": "b06005ef-4112-4779-9e08-8dafdbad531e",
   "metadata": {},
   "source": [
    "## Feature Engineering"
   ]
  },
  {
   "cell_type": "code",
   "execution_count": 225,
   "id": "21d326fe-83cd-4704-ace4-81ed851f61de",
   "metadata": {},
   "outputs": [
    {
     "data": {
      "text/plain": [
       "user                     int64\n",
       "first_open              object\n",
       "dayofweek                int64\n",
       "hour                     int32\n",
       "age                      int64\n",
       "screen_list             object\n",
       "numscreens               int64\n",
       "minigame                 int64\n",
       "used_premium_feature     int64\n",
       "enrolled                 int64\n",
       "enrolled_date           object\n",
       "liked                    int64\n",
       "dtype: object"
      ]
     },
     "execution_count": 225,
     "metadata": {},
     "output_type": "execute_result"
    }
   ],
   "source": [
    "data.dtypes"
   ]
  },
  {
   "cell_type": "code",
   "execution_count": 226,
   "id": "9635c8b9-d8e9-4d3c-b816-ed22ad938e32",
   "metadata": {},
   "outputs": [],
   "source": [
    "data['first_open'] = [parser.parse(row_data) for row_data in data['first_open']]\n",
    "data['enrolled_date'] = [parser.parse(row_data) if isinstance(row_data, str) else row_data for row_data in data['enrolled_date']]"
   ]
  },
  {
   "cell_type": "code",
   "execution_count": 227,
   "id": "8efdb3df-e7f3-4446-987e-29dda75d16eb",
   "metadata": {},
   "outputs": [
    {
     "data": {
      "text/html": [
       "<div>\n",
       "<style scoped>\n",
       "    .dataframe tbody tr th:only-of-type {\n",
       "        vertical-align: middle;\n",
       "    }\n",
       "\n",
       "    .dataframe tbody tr th {\n",
       "        vertical-align: top;\n",
       "    }\n",
       "\n",
       "    .dataframe thead th {\n",
       "        text-align: right;\n",
       "    }\n",
       "</style>\n",
       "<table border=\"1\" class=\"dataframe\">\n",
       "  <thead>\n",
       "    <tr style=\"text-align: right;\">\n",
       "      <th></th>\n",
       "      <th>first_open</th>\n",
       "      <th>enrolled_date</th>\n",
       "    </tr>\n",
       "  </thead>\n",
       "  <tbody>\n",
       "    <tr>\n",
       "      <th>0</th>\n",
       "      <td>2012-12-27 02:14:51.273</td>\n",
       "      <td>NaT</td>\n",
       "    </tr>\n",
       "    <tr>\n",
       "      <th>1</th>\n",
       "      <td>2012-12-02 01:16:00.905</td>\n",
       "      <td>NaT</td>\n",
       "    </tr>\n",
       "    <tr>\n",
       "      <th>2</th>\n",
       "      <td>2013-03-19 19:19:09.157</td>\n",
       "      <td>NaT</td>\n",
       "    </tr>\n",
       "    <tr>\n",
       "      <th>3</th>\n",
       "      <td>2013-07-05 16:08:46.354</td>\n",
       "      <td>2013-07-05 16:11:49.513</td>\n",
       "    </tr>\n",
       "    <tr>\n",
       "      <th>4</th>\n",
       "      <td>2013-02-26 18:50:48.661</td>\n",
       "      <td>2013-02-26 18:56:37.841</td>\n",
       "    </tr>\n",
       "  </tbody>\n",
       "</table>\n",
       "</div>"
      ],
      "text/plain": [
       "               first_open           enrolled_date\n",
       "0 2012-12-27 02:14:51.273                     NaT\n",
       "1 2012-12-02 01:16:00.905                     NaT\n",
       "2 2013-03-19 19:19:09.157                     NaT\n",
       "3 2013-07-05 16:08:46.354 2013-07-05 16:11:49.513\n",
       "4 2013-02-26 18:50:48.661 2013-02-26 18:56:37.841"
      ]
     },
     "execution_count": 227,
     "metadata": {},
     "output_type": "execute_result"
    }
   ],
   "source": [
    "data[['first_open', 'enrolled_date']].head(5)"
   ]
  },
  {
   "cell_type": "code",
   "execution_count": 228,
   "id": "5e9ff832-1971-4300-ac71-f45eefba015d",
   "metadata": {},
   "outputs": [
    {
     "data": {
      "text/plain": [
       "user                             int64\n",
       "first_open              datetime64[ns]\n",
       "dayofweek                        int64\n",
       "hour                             int32\n",
       "age                              int64\n",
       "screen_list                     object\n",
       "numscreens                       int64\n",
       "minigame                         int64\n",
       "used_premium_feature             int64\n",
       "enrolled                         int64\n",
       "enrolled_date           datetime64[ns]\n",
       "liked                            int64\n",
       "dtype: object"
      ]
     },
     "execution_count": 228,
     "metadata": {},
     "output_type": "execute_result"
    }
   ],
   "source": [
    "data.dtypes"
   ]
  },
  {
   "cell_type": "code",
   "execution_count": 229,
   "id": "e8d7a266-4e04-43b6-84d9-cecc1fc27cbc",
   "metadata": {},
   "outputs": [
    {
     "data": {
      "text/plain": [
       "0        NaN\n",
       "1        NaN\n",
       "2        NaN\n",
       "3        0.0\n",
       "4        0.0\n",
       "        ... \n",
       "49995    0.0\n",
       "49996    NaN\n",
       "49997    NaN\n",
       "49998    0.0\n",
       "49999    NaN\n",
       "Name: difference, Length: 50000, dtype: float64"
      ]
     },
     "execution_count": 229,
     "metadata": {},
     "output_type": "execute_result"
    }
   ],
   "source": [
    "data['difference'] = (data['enrolled_date'] - data['first_open']).astype('timedelta64[h]')\n",
    "data['difference']"
   ]
  },
  {
   "cell_type": "code",
   "execution_count": 230,
   "id": "0a10b20f-0771-486a-93c5-cd2f05f46fb9",
   "metadata": {},
   "outputs": [
    {
     "data": {
      "text/plain": [
       "count    31074.000000\n",
       "mean       190.791659\n",
       "std        621.887155\n",
       "min          0.000000\n",
       "25%          0.000000\n",
       "50%          0.000000\n",
       "75%         16.000000\n",
       "max       5434.000000\n",
       "Name: difference, dtype: float64"
      ]
     },
     "execution_count": 230,
     "metadata": {},
     "output_type": "execute_result"
    }
   ],
   "source": [
    "data.difference.describe()"
   ]
  },
  {
   "cell_type": "code",
   "execution_count": 231,
   "id": "326edad6-d2cd-4957-af6d-2ca9b9ae2688",
   "metadata": {},
   "outputs": [
    {
     "data": {
      "text/plain": [
       "Text(0.5, 1.0, 'Distribution of Time(hours) between Enroll Date and First Open Date')"
      ]
     },
     "execution_count": 231,
     "metadata": {},
     "output_type": "execute_result"
    },
    {
     "data": {
      "image/png": "[encoded data removed]",
      "text/plain": [
       "<Figure size 432x288 with 1 Axes>"
      ]
     },
     "metadata": {
      "needs_background": "light"
     },
     "output_type": "display_data"
    }
   ],
   "source": [
    "sns.histplot(data=data.dropna(), x='difference', binwidth=1000)\n",
    "plt.title(\"Distribution of Time(hours) between Enroll Date and First Open Date\")"
   ]
  },
  {
   "cell_type": "code",
   "execution_count": 232,
   "id": "fb850314-1583-4a9d-8b65-5cc8c3ea4a2b",
   "metadata": {},
   "outputs": [
    {
     "data": {
      "text/plain": [
       "Text(0.5, 1.0, 'Distribution of Time(hours) between Enroll Date and First Open Date')"
      ]
     },
     "execution_count": 232,
     "metadata": {},
     "output_type": "execute_result"
    },
    {
     "data": {
      "image/png": "[encoded data removed]",
      "text/plain": [
       "<Figure size 432x288 with 1 Axes>"
      ]
     },
     "metadata": {
      "needs_background": "light"
     },
     "output_type": "display_data"
    }
   ],
   "source": [
    "sns.histplot(data=data.dropna(), x='difference', binwidth=1, binrange=(0,10))\n",
    "plt.title(\"Distribution of Time(hours) between Enroll Date and First Open Date\")"
   ]
  },
  {
   "cell_type": "code",
   "execution_count": 233,
   "id": "d0a1c49c-9dc9-4eb7-901d-eff6dccf13e1",
   "metadata": {},
   "outputs": [],
   "source": [
    "data.loc[data.difference > 48, 'enrolled'] = 0\n",
    "data = data.drop(columns=['difference', 'enrolled_date', 'first_open'])"
   ]
  },
  {
   "cell_type": "code",
   "execution_count": 234,
   "id": "4ee87ce0-4794-43b3-be0e-cca98ff3cc10",
   "metadata": {},
   "outputs": [
    {
     "data": {
      "text/html": [
       "<div>\n",
       "<style scoped>\n",
       "    .dataframe tbody tr th:only-of-type {\n",
       "        vertical-align: middle;\n",
       "    }\n",
       "\n",
       "    .dataframe tbody tr th {\n",
       "        vertical-align: top;\n",
       "    }\n",
       "\n",
       "    .dataframe thead th {\n",
       "        text-align: right;\n",
       "    }\n",
       "</style>\n",
       "<table border=\"1\" class=\"dataframe\">\n",
       "  <thead>\n",
       "    <tr style=\"text-align: right;\">\n",
       "      <th></th>\n",
       "      <th>user</th>\n",
       "      <th>dayofweek</th>\n",
       "      <th>hour</th>\n",
       "      <th>age</th>\n",
       "      <th>screen_list</th>\n",
       "      <th>numscreens</th>\n",
       "      <th>minigame</th>\n",
       "      <th>used_premium_feature</th>\n",
       "      <th>enrolled</th>\n",
       "      <th>liked</th>\n",
       "    </tr>\n",
       "  </thead>\n",
       "  <tbody>\n",
       "    <tr>\n",
       "      <th>0</th>\n",
       "      <td>235136</td>\n",
       "      <td>3</td>\n",
       "      <td>2</td>\n",
       "      <td>23</td>\n",
       "      <td>idscreen,joinscreen,Cycle,product_review,ScanP...</td>\n",
       "      <td>15</td>\n",
       "      <td>0</td>\n",
       "      <td>0</td>\n",
       "      <td>0</td>\n",
       "      <td>0</td>\n",
       "    </tr>\n",
       "    <tr>\n",
       "      <th>1</th>\n",
       "      <td>333588</td>\n",
       "      <td>6</td>\n",
       "      <td>1</td>\n",
       "      <td>24</td>\n",
       "      <td>joinscreen,product_review,product_review2,Scan...</td>\n",
       "      <td>13</td>\n",
       "      <td>0</td>\n",
       "      <td>0</td>\n",
       "      <td>0</td>\n",
       "      <td>0</td>\n",
       "    </tr>\n",
       "    <tr>\n",
       "      <th>2</th>\n",
       "      <td>254414</td>\n",
       "      <td>1</td>\n",
       "      <td>19</td>\n",
       "      <td>23</td>\n",
       "      <td>Splash,Cycle,Loan</td>\n",
       "      <td>3</td>\n",
       "      <td>0</td>\n",
       "      <td>1</td>\n",
       "      <td>0</td>\n",
       "      <td>1</td>\n",
       "    </tr>\n",
       "    <tr>\n",
       "      <th>3</th>\n",
       "      <td>234192</td>\n",
       "      <td>4</td>\n",
       "      <td>16</td>\n",
       "      <td>28</td>\n",
       "      <td>product_review,Home,product_review,Loan3,Finan...</td>\n",
       "      <td>40</td>\n",
       "      <td>0</td>\n",
       "      <td>0</td>\n",
       "      <td>1</td>\n",
       "      <td>0</td>\n",
       "    </tr>\n",
       "    <tr>\n",
       "      <th>4</th>\n",
       "      <td>51549</td>\n",
       "      <td>1</td>\n",
       "      <td>18</td>\n",
       "      <td>31</td>\n",
       "      <td>idscreen,joinscreen,Cycle,Credit3Container,Sca...</td>\n",
       "      <td>32</td>\n",
       "      <td>0</td>\n",
       "      <td>0</td>\n",
       "      <td>1</td>\n",
       "      <td>1</td>\n",
       "    </tr>\n",
       "  </tbody>\n",
       "</table>\n",
       "</div>"
      ],
      "text/plain": [
       "     user  dayofweek  hour  age  \\\n",
       "0  235136          3     2   23   \n",
       "1  333588          6     1   24   \n",
       "2  254414          1    19   23   \n",
       "3  234192          4    16   28   \n",
       "4   51549          1    18   31   \n",
       "\n",
       "                                         screen_list  numscreens  minigame  \\\n",
       "0  idscreen,joinscreen,Cycle,product_review,ScanP...          15         0   \n",
       "1  joinscreen,product_review,product_review2,Scan...          13         0   \n",
       "2                                  Splash,Cycle,Loan           3         0   \n",
       "3  product_review,Home,product_review,Loan3,Finan...          40         0   \n",
       "4  idscreen,joinscreen,Cycle,Credit3Container,Sca...          32         0   \n",
       "\n",
       "   used_premium_feature  enrolled  liked  \n",
       "0                     0         0      0  \n",
       "1                     0         0      0  \n",
       "2                     1         0      1  \n",
       "3                     0         1      0  \n",
       "4                     0         1      1  "
      ]
     },
     "execution_count": 234,
     "metadata": {},
     "output_type": "execute_result"
    }
   ],
   "source": [
    "data.head(5)"
   ]
  },
  {
   "cell_type": "code",
   "execution_count": 235,
   "id": "8346a08a-2971-487a-899a-98e0dda2a213",
   "metadata": {},
   "outputs": [
    {
     "data": {
      "text/plain": [
       "array(['Loan2', 'location', 'Institutions', 'Credit3Container',\n",
       "       'VerifyPhone', 'BankVerification', 'VerifyDateOfBirth',\n",
       "       'ProfilePage', 'VerifyCountry', 'Cycle', 'idscreen',\n",
       "       'Credit3Dashboard', 'Loan3', 'CC1Category', 'Splash', 'Loan',\n",
       "       'CC1', 'RewardsContainer', 'Credit3', 'Credit1', 'EditProfile',\n",
       "       'Credit2', 'Finances', 'CC3', 'Saving9', 'Saving1', 'Alerts',\n",
       "       'Saving8', 'Saving10', 'Leaderboard', 'Saving4', 'VerifyMobile',\n",
       "       'VerifyHousing', 'RewardDetail', 'VerifyHousingAmount',\n",
       "       'ProfileMaritalStatus', 'ProfileChildren ', 'ProfileEducation',\n",
       "       'Saving7', 'ProfileEducationMajor', 'Rewards', 'AccountView',\n",
       "       'VerifyAnnualIncome', 'VerifyIncomeType', 'Saving2', 'Saving6',\n",
       "       'Saving2Amount', 'Saving5', 'ProfileJobTitle', 'Login',\n",
       "       'ProfileEmploymentLength', 'WebView', 'SecurityModal', 'Loan4',\n",
       "       'ResendToken', 'TransactionList', 'NetworkFailure', 'ListPicker'],\n",
       "      dtype=object)"
      ]
     },
     "execution_count": 235,
     "metadata": {},
     "output_type": "execute_result"
    }
   ],
   "source": [
    "top_screens = pd.read_csv('data/top_screens.csv').top_screens.values\n",
    "top_screens"
   ]
  },
  {
   "cell_type": "code",
   "execution_count": 236,
   "id": "fd5ea694-f677-4cba-97f6-ba6fbcdafe5a",
   "metadata": {},
   "outputs": [
    {
     "data": {
      "text/plain": [
       "Index(['user', 'dayofweek', 'hour', 'age', 'numscreens', 'minigame',\n",
       "       'used_premium_feature', 'enrolled', 'liked', 'Loan2', 'location',\n",
       "       'Institutions', 'Credit3Container', 'VerifyPhone', 'BankVerification',\n",
       "       'VerifyDateOfBirth', 'ProfilePage', 'VerifyCountry', 'Cycle',\n",
       "       'idscreen', 'Credit3Dashboard', 'Loan3', 'CC1Category', 'Splash',\n",
       "       'Loan', 'CC1', 'RewardsContainer', 'Credit3', 'Credit1', 'EditProfile',\n",
       "       'Credit2', 'Finances', 'CC3', 'Saving9', 'Saving1', 'Alerts', 'Saving8',\n",
       "       'Saving10', 'Leaderboard', 'Saving4', 'VerifyMobile', 'VerifyHousing',\n",
       "       'RewardDetail', 'VerifyHousingAmount', 'ProfileMaritalStatus',\n",
       "       'ProfileChildren ', 'ProfileEducation', 'Saving7',\n",
       "       'ProfileEducationMajor', 'Rewards', 'AccountView', 'VerifyAnnualIncome',\n",
       "       'VerifyIncomeType', 'Saving2', 'Saving6', 'Saving2Amount', 'Saving5',\n",
       "       'ProfileJobTitle', 'Login', 'ProfileEmploymentLength', 'WebView',\n",
       "       'SecurityModal', 'Loan4', 'ResendToken', 'TransactionList',\n",
       "       'NetworkFailure', 'ListPicker'],\n",
       "      dtype='object')"
      ]
     },
     "execution_count": 236,
     "metadata": {},
     "output_type": "execute_result"
    }
   ],
   "source": [
    "data[\"screen_list\"] = data.screen_list.astype(str)\n",
    "for sc in top_screens:\n",
    "    data[sc] = data.screen_list.str.contains(sc).astype(int)\n",
    "\n",
    "data = data.drop(columns=['screen_list'])\n",
    "data.columns"
   ]
  },
  {
   "cell_type": "code",
   "execution_count": 237,
   "id": "de291380-0329-4d4c-9dd7-12e0b3551e74",
   "metadata": {},
   "outputs": [
    {
     "data": {
      "text/plain": [
       "Index(['dayofweek', 'hour', 'age', 'numscreens', 'minigame',\n",
       "       'used_premium_feature', 'liked', 'Loan2', 'location', 'Institutions',\n",
       "       'Credit3Container', 'VerifyPhone', 'BankVerification',\n",
       "       'VerifyDateOfBirth', 'ProfilePage', 'VerifyCountry', 'Cycle',\n",
       "       'idscreen', 'Credit3Dashboard', 'Loan3', 'CC1Category', 'Splash',\n",
       "       'Loan', 'CC1', 'RewardsContainer', 'Credit3', 'Credit1', 'EditProfile',\n",
       "       'Credit2', 'Finances', 'CC3', 'Saving9', 'Saving1', 'Alerts', 'Saving8',\n",
       "       'Saving10', 'Leaderboard', 'Saving4', 'VerifyMobile', 'VerifyHousing',\n",
       "       'RewardDetail', 'VerifyHousingAmount', 'ProfileMaritalStatus',\n",
       "       'ProfileChildren ', 'ProfileEducation', 'Saving7',\n",
       "       'ProfileEducationMajor', 'Rewards', 'AccountView', 'VerifyAnnualIncome',\n",
       "       'VerifyIncomeType', 'Saving2', 'Saving6', 'Saving2Amount', 'Saving5',\n",
       "       'ProfileJobTitle', 'Login', 'ProfileEmploymentLength', 'WebView',\n",
       "       'SecurityModal', 'Loan4', 'ResendToken', 'TransactionList',\n",
       "       'NetworkFailure', 'ListPicker'],\n",
       "      dtype='object')"
      ]
     },
     "execution_count": 237,
     "metadata": {},
     "output_type": "execute_result"
    }
   ],
   "source": [
    "response = data['enrolled']\n",
    "data = data.drop(columns=['enrolled', 'user'])\n",
    "data.columns"
   ]
  },
  {
   "cell_type": "code",
   "execution_count": null,
   "id": "79d300aa-928b-4f8b-b5fe-94762199cb95",
   "metadata": {},
   "outputs": [],
   "source": [
    "from sklearn.preprocessing import StandardScaler"
   ]
  },
  {
   "cell_type": "code",
   "execution_count": 244,
   "id": "7696d529-b5de-4cf3-ac49-d6692f3f547b",
   "metadata": {},
   "outputs": [],
   "source": [
    "scaler = StandardScaler()\n",
    "scaler.fit(data)\n",
    "scaled_data = scaler.transform(data)"
   ]
  },
  {
   "cell_type": "code",
   "execution_count": 238,
   "id": "351b4d91-6737-4686-840c-342d78cb5ccf",
   "metadata": {},
   "outputs": [],
   "source": [
    "from sklearn.model_selection import train_test_split"
   ]
  },
  {
   "cell_type": "code",
   "execution_count": 266,
   "id": "7525bac6-fa67-4a86-a0b9-2a9055f08dba",
   "metadata": {},
   "outputs": [],
   "source": [
    "X_train, X_test, y_train, y_test = train_test_split(scaled_data, response.values, test_size=0.33, random_state=42)"
   ]
  },
  {
   "cell_type": "code",
   "execution_count": 267,
   "id": "18deb4d8-ad8e-4716-b428-7dbf8a4944c9",
   "metadata": {},
   "outputs": [
    {
     "name": "stdout",
     "output_type": "stream",
     "text": [
      "X train: [[ 0.96956831  0.46286383  2.61733872 -0.64187943 -0.34763494]\n",
      " [ 0.47743663  0.19397425  1.78425241 -0.38756652 -0.34763494]\n",
      " [-0.50682673  1.00064299  2.15451299 -0.26041006 -0.34763494]\n",
      " [-0.01469505  0.46286383 -0.99270194  0.43895044 -0.34763494]\n",
      " [ 1.4617     -1.28491843 -0.34474592  0.82041981 -0.34763494]]\n",
      "X test: [[-0.50682673  0.19397425 -0.06705049  1.83767145 -0.34763494]\n",
      " [-1.4910901  -0.07491533  1.9693827  -1.08692702 -0.34763494]\n",
      " [-0.99895842  0.73175341 -0.90013679 -0.83261411 -0.34763494]\n",
      " [-0.99895842 -1.28491843  0.1180798  -0.06967538 -0.34763494]\n",
      " [-1.4910901  -1.41936322  0.21064495  0.5661069  -0.34763494]]\n",
      "y train: [1 1 1 1 1]\n",
      "y test: [1 1 1 1 1]\n"
     ]
    }
   ],
   "source": [
    "print(\"X train:\", X_train[:5, :5])\n",
    "print(\"X test:\", X_test[:5, :5])\n",
    "print(\"y train:\", y_train[:5])\n",
    "print(\"y test:\", y_test[:5])"
   ]
  },
  {
   "cell_type": "markdown",
   "id": "f410aaf2-a56e-4de2-ab54-d3d007c1107e",
   "metadata": {},
   "source": [
    "## Training our model"
   ]
  },
  {
   "cell_type": "code",
   "execution_count": 271,
   "id": "ea9d3ab3-7bb5-40d0-83ad-9eda8349bfac",
   "metadata": {},
   "outputs": [],
   "source": [
    "from sklearn.linear_model import LogisticRegression"
   ]
  },
  {
   "cell_type": "code",
   "execution_count": 274,
   "id": "4c87d415-c1bf-42c0-aedb-8e25ff14b85f",
   "metadata": {},
   "outputs": [
    {
     "data": {
      "text/plain": [
       "LogisticRegression()"
      ]
     },
     "execution_count": 274,
     "metadata": {},
     "output_type": "execute_result"
    }
   ],
   "source": [
    "clf = LogisticRegression(penalty='l2')\n",
    "clf.fit(X_train, y_train)"
   ]
  },
  {
   "cell_type": "code",
   "execution_count": 275,
   "id": "99a85688-58c7-416c-8049-b6828fdbdaf5",
   "metadata": {},
   "outputs": [],
   "source": [
    "y_pred = clf.predict(X_test)"
   ]
  },
  {
   "cell_type": "code",
   "execution_count": 276,
   "id": "5616e56b-7a2b-469d-b8f1-31dee4fc47c8",
   "metadata": {},
   "outputs": [],
   "source": [
    "from sklearn.metrics import confusion_matrix, classification_report"
   ]
  },
  {
   "cell_type": "code",
   "execution_count": 278,
   "id": "aadae8e0-c60b-480c-9571-a648403bdb24",
   "metadata": {},
   "outputs": [
    {
     "data": {
      "text/plain": [
       "<AxesSubplot:>"
      ]
     },
     "execution_count": 278,
     "metadata": {},
     "output_type": "execute_result"
    },
    {
     "data": {
      "image/png": "[encoded data removed]",
      "text/plain": [
       "<Figure size 432x288 with 2 Axes>"
      ]
     },
     "metadata": {
      "needs_background": "light"
     },
     "output_type": "display_data"
    }
   ],
   "source": [
    "cm = confusion_matrix(y_test, y_pred)\n",
    "sns.heatmap(data=cm, cmap=\"Blues\", annot=True)"
   ]
  },
  {
   "cell_type": "code",
   "execution_count": 281,
   "id": "acea7e8e-ccd7-403f-ad8a-5779a35d883d",
   "metadata": {},
   "outputs": [
    {
     "name": "stdout",
     "output_type": "stream",
     "text": [
      "              precision    recall  f1-score   support\n",
      "\n",
      "           0       0.77      0.76      0.76      8342\n",
      "           1       0.75      0.76      0.76      8158\n",
      "\n",
      "    accuracy                           0.76     16500\n",
      "   macro avg       0.76      0.76      0.76     16500\n",
      "weighted avg       0.76      0.76      0.76     16500\n",
      "\n"
     ]
    }
   ],
   "source": [
    "print(classification_report(y_test, y_pred))"
   ]
  },
  {
   "cell_type": "code",
   "execution_count": 282,
   "id": "a068dd2c-d119-413e-a372-d47b8a0e4cfe",
   "metadata": {},
   "outputs": [],
   "source": [
    "from sklearn.model_selection import cross_val_score"
   ]
  },
  {
   "cell_type": "code",
   "execution_count": 289,
   "id": "c21f74d7-7173-47cb-9e4f-4912cfcd9a6e",
   "metadata": {},
   "outputs": [],
   "source": [
    "accuracies = cross_val_score(estimator=clf, X=X_train, y=y_train, cv=10)"
   ]
  },
  {
   "cell_type": "code",
   "execution_count": 290,
   "id": "854df0a6-f6f6-4b14-b372-0bb002a79cf0",
   "metadata": {},
   "outputs": [
    {
     "name": "stdout",
     "output_type": "stream",
     "text": [
      "[0.7519403  0.76507463 0.75641791 0.77313433 0.76029851 0.76179104\n",
      " 0.74626866 0.75313433 0.75283582 0.74358209]\n"
     ]
    }
   ],
   "source": [
    "print(accuracies)"
   ]
  },
  {
   "cell_type": "code",
   "execution_count": 291,
   "id": "02c0fbce-e0e2-4ca7-b7e3-8a2b1958d7bf",
   "metadata": {},
   "outputs": [
    {
     "name": "stdout",
     "output_type": "stream",
     "text": [
      "Average accuracy: 75.64%\n"
     ]
    }
   ],
   "source": [
    "print(f\"Average accuracy: {round(accuracies.mean() * 100,2)}%\")"
   ]
  },
  {
   "cell_type": "markdown",
   "id": "77433f59-eb90-4b31-9563-5d17c390e60d",
   "metadata": {},
   "source": [
    "## Conclusion"
   ]
  },
  {
   "cell_type": "markdown",
   "id": "e824789d-ecf7-4dcc-a7e3-0d0a05832d58",
   "metadata": {},
   "source": [
    "With our accuracy of around 76%, we do see that this has a reasonable score when predicting whether a user will purchase a subscription.<br>\n",
    "Potentionally, this could be extended to include when the user will most likely consider purchasing the subscription, which we can then use to more resourcefully target our marketing towards those users. "
   ]
  }
 ],
 "metadata": {
  "kernelspec": {
   "display_name": "Python 3",
   "language": "python",
   "name": "python3"
  },
  "language_info": {
   "codemirror_mode": {
    "name": "ipython",
    "version": 3
   },
   "file_extension": ".py",
   "mimetype": "text/x-python",
   "name": "python",
   "nbconvert_exporter": "python",
   "pygments_lexer": "ipython3",
   "version": "3.9.4"
  }
 },
 "nbformat": 4,
 "nbformat_minor": 5
}
